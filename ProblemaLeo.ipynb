{
 "cells": [
  {
   "cell_type": "code",
   "execution_count": 1,
   "metadata": {},
   "outputs": [],
   "source": [
    "from differential_evolution import optimize\n",
    "from timer import Timer\n",
    "import torch\n",
    "import torch.nn.functional as F\n",
    "from time import sleep\n",
    "from itertools import permutations\n",
    "from fastprogress.fastprogress import master_bar"
   ]
  },
  {
   "cell_type": "code",
   "execution_count": 2,
   "metadata": {},
   "outputs": [],
   "source": [
    "torch.cuda.set_device(1)"
   ]
  },
  {
   "cell_type": "code",
   "execution_count": 3,
   "metadata": {},
   "outputs": [],
   "source": [
    "def pairwise_distances(A,B):\n",
    "    # Both A and B should be (bs,n,d) where n is some number of points and d is dimension (e.g. 2 for R^2)\n",
    "    w = (A[:,:,None] - B[:,None])\n",
    "    d2 = (w*w).sum(dim = -1)\n",
    "    return torch.sqrt(d2)\n",
    "\n",
    "def inverse_perm(P):\n",
    "    Q = [0]*len(P)\n",
    "    for i,p in enumerate(P):\n",
    "        Q[p] = i\n",
    "    return Q\n",
    "\n",
    "def too_close_loss(D):\n",
    "    u = D.shape[1]\n",
    "    i = torch.arange(u,device=D.device)\n",
    "    D[:,i,i] = 1\n",
    "    β = (D < 0.0001).double()\n",
    "    return (β).sum(dim=(1,2))\n",
    "\n",
    "def distances_too_similar(D):\n",
    "    U = pairwise_distances(D[...,None],D[...,None])\n",
    "    u = U.shape[1]\n",
    "\n",
    "    i = torch.arange(u,device=U.device)\n",
    "    U[:,i,i] = 1\n",
    "    U = U.view(U.shape[0],-1)\n",
    "    β = (U < 0.00001).double()\n",
    "    return (β).sum(dim=1)\n",
    "\n",
    "        \n",
    "def leo_cost(A):\n",
    "    # A.shape = (bs, numpoints, d)\n",
    "    bs,n,d = A.shape\n",
    "    \n",
    "    D = pairwise_distances(A,A)\n",
    "    \n",
    "    max_chicos = D[:,:d,d:].reshape(bs,-1).max(dim=1)[0]\n",
    "    \n",
    "    max_medianos = D[:,d:,d:].reshape(bs,-1).max(dim=1)[0]\n",
    "    I = torch.arange(n, device=A.device)\n",
    "    D[:,I,I] = 10000\n",
    "    \n",
    "    min_medianos = D[:,d:,d:].reshape(bs,-1).min(dim=1)[0]\n",
    "\n",
    "    min_grandes = D[:,:d,:d].reshape(bs,-1).min(dim=1)[0]\n",
    "    \n",
    "    #print(f\"min_grandes={min_grandes}\")\n",
    "    #print(f\"max_medianos={max_medianos}\")\n",
    "    #print(f\"min_medianos={min_medianos}\")\n",
    "    #print(f\"max_chicos={max_chicos}\")\n",
    "    #print(f\"{max_chicos.shape}\")\n",
    "    #print(f\"{max_medianos.shape}\")\n",
    "    #print(f\"{min_medianos.shape}\")\n",
    "    #print(f\"{min_grandes.shape}\")\n",
    "    #print(f\"{F.relu(max_chicos - min_medianos)}\")\n",
    "    #print(f\"{F.relu(max_medianos-min_grandes)}\")\n",
    "    #print(f\"{too_close_loss(D)}\")\n",
    "    #print(f\"{distances_too_similar(D)}\")\n",
    "    \n",
    "    return 100*(F.relu(max_chicos - min_medianos) + F.relu(max_medianos-min_grandes)) + too_close_loss(D) + distances_too_similar(D)\n",
    "    "
   ]
  },
  {
   "cell_type": "code",
   "execution_count": 4,
   "metadata": {},
   "outputs": [],
   "source": [
    "def proyectar(x):\n",
    "    bs,n,d = x.shape\n",
    "    x[:,:d,-1] = 0\n",
    "    return torch.clamp(x,-100,100)"
   ]
  },
  {
   "cell_type": "markdown",
   "metadata": {},
   "source": [
    "A=[[2, 0, 0, 0, 0, 0], \n",
    "   [0, 2, 0, 0, 0, 0], \n",
    "   [0, 0, 2, 0, 0, 0], \n",
    "   [0, 0, 0, 2, 0, 0], \n",
    "   [0, 0, 0, 0, 2, 0], \n",
    "   [0, 0, 0, 0, 0, 2],\n",
    "   [1.3, 1.3, -0.1, -0.1, -0.1, -0.1], \n",
    "   [-0.1, -0.1, 1.3, 1.3, -0.1, -0.1], \n",
    "   [-0.1, -0.1, -0.1, -0.1, 1.3, 1.3]]"
   ]
  },
  {
   "cell_type": "markdown",
   "metadata": {},
   "source": [
    "A=torch.tensor(A)\n",
    "#A += 0.01*torch.randn_like(A)"
   ]
  },
  {
   "cell_type": "markdown",
   "metadata": {},
   "source": [
    "A =torch.tensor([[-1.5094,  0.8203, -2.2727,  2.0785],\n",
    "        [ 1.7838,  0.8836,  1.7320,  1.9060],\n",
    "        [-0.4184, -1.6662, -3.0278, -2.1233],\n",
    "        [ 3.7668, -1.3022, -0.3410, -2.0159],\n",
    "        [-0.8384, -1.7425,  0.6483, -0.7001],\n",
    "        [ 2.4868, -1.2303, -2.2418,  1.4634],\n",
    "        [ 0.9739,  2.3999, -1.2020, -1.3232]])"
   ]
  },
  {
   "cell_type": "markdown",
   "metadata": {},
   "source": [
    "A.shape"
   ]
  },
  {
   "cell_type": "markdown",
   "metadata": {},
   "source": [
    "pairwise_distances(A[None],A[None])"
   ]
  },
  {
   "cell_type": "markdown",
   "metadata": {},
   "source": [
    "leo_cost(A[None])"
   ]
  },
  {
   "cell_type": "code",
   "execution_count": null,
   "metadata": {},
   "outputs": [
    {
     "data": {
      "text/html": [
       "\n",
       "<style>\n",
       "    /* Turns off some styling */\n",
       "    progress {\n",
       "        /* gets rid of default border in Firefox and Opera. */\n",
       "        border: none;\n",
       "        /* Needs to be in here for Safari polyfill so background images work as expected. */\n",
       "        background-size: auto;\n",
       "    }\n",
       "    progress:not([value]), progress:not([value])::-webkit-progress-bar {\n",
       "        background: repeating-linear-gradient(45deg, #7e7e7e, #7e7e7e 10px, #5c5c5c 10px, #5c5c5c 20px);\n",
       "    }\n",
       "    .progress-bar-interrupted, .progress-bar-interrupted::-webkit-progress-bar {\n",
       "        background: #F44336;\n",
       "    }\n",
       "</style>\n"
      ],
      "text/plain": [
       "<IPython.core.display.HTML object>"
      ]
     },
     "metadata": {},
     "output_type": "display_data"
    },
    {
     "data": {
      "text/html": [
       "\n",
       "    <div>\n",
       "      <progress value='0' class='' max='5' style='width:300px; height:20px; vertical-align: middle;'></progress>\n",
       "      0.00% [0/5 00:00&lt;?]\n",
       "    </div>\n",
       "    \n",
       "\n",
       "\n",
       "    <div>\n",
       "      <progress value='11417' class='' max='200000' style='width:300px; height:20px; vertical-align: middle;'></progress>\n",
       "      5.71% [11417/200000 00:29&lt;08:09 | best cost = 0.0020]\n",
       "    </div>\n",
       "    "
      ],
      "text/plain": [
       "<IPython.core.display.HTML object>"
      ]
     },
     "metadata": {},
     "output_type": "display_data"
    }
   ],
   "source": [
    "d = 3\n",
    "\n",
    "shuffles = 2\n",
    "epochs = 200000\n",
    "num_populations = 64\n",
    "pop_size = 32\n",
    "bs = num_populations*pop_size\n",
    "device = 'cuda'\n",
    "\n",
    "simulaciones = 5\n",
    "\n",
    "mb = master_bar(range(simulaciones))\n",
    "malas = []\n",
    "for _ in mb:\n",
    "    initial_pop = torch.randn((bs,d+3,d),device=device).double()\n",
    "    \n",
    "    #for i in range(bs):\n",
    "        #initial_pop[i,:,:] = A + 0.001*torch.randn_like(A)\n",
    "    \n",
    "    value, x = optimize(leo_cost, \n",
    "                        num_populations=num_populations, \n",
    "                        initial_pop=initial_pop, \n",
    "                        epochs=epochs, \n",
    "                        shuffles=shuffles,\n",
    "                        proj_to_domain=proyectar, #+ torch.randn_like(x)*0.00001, \n",
    "                        use_cuda=False,\n",
    "                        break_at_cost=0,\n",
    "                        mb=mb\n",
    "                       )\n",
    "    try:\n",
    "        sleep(0.4)\n",
    "    except KeyboardInterrupt:\n",
    "        raise\n",
    "    \n",
    "    if value == 0:\n",
    "        print(f\"BAD: \\n{x}, best value: {value}\\n\")\n",
    "        D = pairwise_distances(x[None],x[None])\n",
    "        max_chicos = D[:,:d,d:].reshape(1,-1).max(dim=1)[0]\n",
    "    \n",
    "        max_medianos = D[:,d:,d:].reshape(1,-1).max(dim=1)[0]\n",
    "        I = torch.arange(d+3, device=x.device)\n",
    "        D[:,I,I] = 10000\n",
    "        \n",
    "        min_medianos = D[:,d:,d:].reshape(1,-1).min(dim=1)[0]\n",
    "    \n",
    "        min_grandes = D[:,:d,:d].reshape(1,-1).min(dim=1)[0]\n",
    "        \n",
    "        print(f\"Distances matrix: \\n{D}\\n\")\n",
    "        \n",
    "        print(f\"max_chicos={max_chicos}\")\n",
    "        print(f\"min_medianos={min_medianos}\")\n",
    "        print(f\"max_medianos={max_medianos}\")\n",
    "        print(f\"min_grandes={min_grandes}\\n\\n\")\n",
    "        \n",
    "        malas.append(x)\n",
    "    else:\n",
    "        print(f\"Esto es lo mejor que logré: {x}, con valor {value}\")"
   ]
  },
  {
   "cell_type": "code",
   "execution_count": null,
   "metadata": {},
   "outputs": [],
   "source": [
    "value"
   ]
  },
  {
   "cell_type": "code",
   "execution_count": null,
   "metadata": {},
   "outputs": [],
   "source": []
  },
  {
   "cell_type": "code",
   "execution_count": null,
   "metadata": {},
   "outputs": [],
   "source": [
    "print(f\"% de malas: {len(malas)/simulaciones}\")"
   ]
  },
  {
   "cell_type": "code",
   "execution_count": null,
   "metadata": {},
   "outputs": [],
   "source": []
  },
  {
   "cell_type": "code",
   "execution_count": null,
   "metadata": {},
   "outputs": [],
   "source": []
  },
  {
   "cell_type": "code",
   "execution_count": null,
   "metadata": {},
   "outputs": [],
   "source": [
    "A=torch.rand(4,2,2);A"
   ]
  },
  {
   "cell_type": "code",
   "execution_count": null,
   "metadata": {},
   "outputs": [],
   "source": []
  },
  {
   "cell_type": "code",
   "execution_count": null,
   "metadata": {},
   "outputs": [],
   "source": []
  }
 ],
 "metadata": {
  "kernelspec": {
   "display_name": "Python 3 (ipykernel)",
   "language": "python",
   "name": "python3"
  },
  "language_info": {
   "codemirror_mode": {
    "name": "ipython",
    "version": 3
   },
   "file_extension": ".py",
   "mimetype": "text/x-python",
   "name": "python",
   "nbconvert_exporter": "python",
   "pygments_lexer": "ipython3",
   "version": "3.11.7"
  }
 },
 "nbformat": 4,
 "nbformat_minor": 4
}
