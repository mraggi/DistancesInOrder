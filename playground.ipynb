{
 "cells": [
  {
   "cell_type": "code",
   "execution_count": 6,
   "metadata": {},
   "outputs": [],
   "source": [
    "import torch\n",
    "from progress_bar import progress_bar\n",
    "from helpers import *\n",
    "from timer import *"
   ]
  },
  {
   "cell_type": "code",
   "execution_count": 55,
   "metadata": {},
   "outputs": [],
   "source": [
    "def individual2population(f):\n",
    "    return lambda P : torch.stack([f(p) for p in P])\n",
    "\n",
    "class DifferentialEvolver:\n",
    "    def __init__(self, f, \n",
    "                       initial_pop = None, \n",
    "                       pop_size=50, dim = (1,), # ignored if initial_pop is given\n",
    "                       num_populations=1, # If initial_pop is given, then num_populations must divide initial_pop.shape[0]\n",
    "                       proj_to_domain = lambda x : x, \n",
    "                       f_for_individuals = False, proj_for_individuals = None,\n",
    "                       maximize = False,\n",
    "                       use_cuda = False,\n",
    "                       prob_choosing_method = 'automatic', # either 'randint', 'multinomial' or 'automatic'\n",
    "                       chromosome_replacement_dimension = None # None means that every single number could be replaced independently from others.\n",
    "                                                               # 0 means the whole individual is either replaced or not (stupid!)\n",
    "                                                               # 1 means every component of the individual is either replaced or not, etc.\n",
    "                ):\n",
    "        \n",
    "        if isinstance(dim,int): dim = (dim,)\n",
    "        \n",
    "        if initial_pop is None: P = torch.randn(pop_size*num_populations, *dim)\n",
    "        else: P = initial_pop\n",
    "        \n",
    "        self.pop_size, *self.dim = P.shape\n",
    "        self.num_populations = num_populations\n",
    "        assert(self.pop_size%self.num_populations == 0)\n",
    "        block_size = self.pop_size//self.num_populations\n",
    "        \n",
    "        if proj_for_individuals is None: proj_for_individuals = f_for_individuals\n",
    "\n",
    "        if f_for_individuals: f = individual2population(f)\n",
    "        if proj_for_individuals: proj_to_domain = individual2population(proj_to_domain)\n",
    "        \n",
    "        if use_cuda: P = P.cuda()\n",
    "        \n",
    "        P = proj_to_domain(P)\n",
    "\n",
    "        self.use_randint = (prob_choosing_method in ['randint', 'random', 'rand_int'])\n",
    "        \n",
    "        if prob_choosing_method in ['automatic', 'auto', None]: self.use_randint = (block_size >= 100)\n",
    "        \n",
    "        if self.use_randint:\n",
    "            n = self.pop_size\n",
    "            s = self.num_populations\n",
    "            b = n//s\n",
    "            if s == 1: \n",
    "                self._rand_indices = lambda : torch.randint(0,n,(3,n),device=P.device)\n",
    "            else: \n",
    "                S = torch.arange(s,device=P.device).repeat_interleave(b)[None].contiguous()\n",
    "                self._rand_indices = lambda : S + torch.randint(0,b,(3,n),device=P.device)\n",
    "        else:\n",
    "            self.idx_prob = get_block_eye(block_size,self.num_populations).to(P)\n",
    "        \n",
    "        self.cost = f(P).squeeze()\n",
    "        self.P = P\n",
    "        self.f = f if not maximize else (lambda x: -f(x)) \n",
    "        self.proj_to_domain = proj_to_domain\n",
    "        self.maximize = maximize\n",
    "        \n",
    "        self._dims_1 = tuple([self.pop_size] + [1 for _ in self.dim])\n",
    "        crp = chromosome_replacement_dimension\n",
    "        \n",
    "        if is None: \n",
    "            crp = len(self.dim)\n",
    "        \n",
    "        self._crossp_dims = tuple([self.pop_size] + [d for d in self.dim[:crp]] + [1 for _ in self.dim[crp:]])\n",
    "        print(self._crossp_dims)\n",
    "        print(self._dims_1)\n",
    "        \n",
    "    def _cross_pollination(self, crossp):\n",
    "        return (torch.rand(self._crossp_dims, device=self.P.device) < crossp).to(self.P)\n",
    "    \n",
    "    def shuffle(self):\n",
    "        I = torch.randperm(self.P.shape[0], device=self.P.device)\n",
    "        self.P = self.P[I]\n",
    "        self.cost = self.cost[I]\n",
    "     \n",
    "    def step(self, mut=0.8, crossp=0.7):\n",
    "        A,B,C = self._get_ABC()\n",
    "        \n",
    "        mutants = A + mut*(B - C)\n",
    "        \n",
    "        T = self._cross_pollination(crossp)\n",
    "        \n",
    "        candidates = self.proj_to_domain(T*mutants + (1-T)*self.P)\n",
    "        f_candidates = self.f(candidates).squeeze()\n",
    "        \n",
    "        should_replace = (f_candidates <= self.cost)\n",
    "        \n",
    "        self.cost = torch.where(should_replace,f_candidates,self.cost)\n",
    "        \n",
    "        # adjust dimensions for broadcasting\n",
    "        S = should_replace.to(self.P).view(*self._dims_1) \n",
    "        \n",
    "        self.P = S*candidates + (1-S)*self.P\n",
    "            \n",
    "    def best(self):\n",
    "        best_cost, best_index = torch.min(self.cost, dim=0)\n",
    "        if self.maximize:\n",
    "            best_cost *= -1\n",
    "            \n",
    "        return best_cost.item(), self.P[best_index]\n",
    "        \n",
    "    def _get_ABC(self):\n",
    "        I = self._rand_indices() if self.use_randint else torch.multinomial(self.idx_prob,3).T\n",
    "        return self.P[I]\n",
    "    \n",
    "    \n",
    "def optimize(f, initial_pop = None, \n",
    "                pop_size=20, dim = (1,), \n",
    "                num_populations=1, shuffles = 0,\n",
    "                mut=0.8, crossp=0.7,  \n",
    "                epochs=1000,\n",
    "                proj_to_domain = lambda x : x, \n",
    "                f_for_individuals = False, proj_for_individuals = None, \n",
    "                maximize = False,\n",
    "                use_cuda = False,\n",
    "                prob_choosing_method = 'automatic',\n",
    "                chromosome_replacement_dimension = 1,\n",
    "                break_at_cost = None\n",
    "            ):\n",
    "    \n",
    "    if num_populations == 1: shuffles = 0 # no point in shuffling otherwise!!\n",
    "        \n",
    "    D = DifferentialEvolver(f=f, \n",
    "                            initial_pop=initial_pop,\n",
    "                            pop_size=pop_size, dim = dim, \n",
    "                            num_populations=num_populations,\n",
    "                            proj_to_domain = proj_to_domain, \n",
    "                            f_for_individuals = f_for_individuals, \n",
    "                            proj_for_individuals = proj_for_individuals,\n",
    "                            maximize=maximize,\n",
    "                            use_cuda=use_cuda,\n",
    "                            prob_choosing_method=prob_choosing_method,\n",
    "                            chromosome_replacement_dimension = chromosome_replacement_dimension\n",
    "                           )\n",
    "    if isinstance(epochs, int): epochs = range(epochs)\n",
    "    mut, crossp = tofunc(mut), tofunc(crossp)\n",
    "    \n",
    "    pbar = progress_bar(epochs)\n",
    "    \n",
    "    test_each = 20\n",
    "    \n",
    "    try:\n",
    "        remaining_before_test = test_each+1\n",
    "        \n",
    "        i = 0\n",
    "        shuffles_so_far = 0\n",
    "        \n",
    "        for _ in pbar:\n",
    "            remaining_before_test -= 1\n",
    "            D.step(mut=mut(), crossp=crossp())\n",
    "            \n",
    "            i += 1\n",
    "            progress = i/pbar.total\n",
    "            \n",
    "            if progress > (shuffles_so_far+1)/(shuffles+1):\n",
    "                shuffles_so_far += 1\n",
    "                D.shuffle()\n",
    "            \n",
    "            if remaining_before_test == 0:\n",
    "                remaining_before_test = test_each\n",
    "                best_cost, _ = D.best()\n",
    "                pbar.comment = f\"| best cost = {best_cost:.4f}\"\n",
    "                if break_at_cost is not None and best_cost == break_at_cost:\n",
    "                    break\n",
    "            \n",
    "    except KeyboardInterrupt:\n",
    "        print(\"Interrupting! Returning best found so far\")\n",
    "    \n",
    "    return D.best()\n"
   ]
  },
  {
   "cell_type": "code",
   "execution_count": 56,
   "metadata": {},
   "outputs": [],
   "source": [
    "def matrix_cost(M):\n",
    "    M = torch.mean(M,dim=1)\n",
    "    M = torch.mean(M,dim=1)\n",
    "    return torch.abs(M)"
   ]
  },
  {
   "cell_type": "code",
   "execution_count": 57,
   "metadata": {},
   "outputs": [
    {
     "name": "stdout",
     "output_type": "stream",
     "text": [
      "(50, 5, 1)\n",
      "(50, 1, 1)\n"
     ]
    }
   ],
   "source": [
    "D = DifferentialEvolver(matrix_cost, dim=(5,5))"
   ]
  },
  {
   "cell_type": "code",
   "execution_count": 59,
   "metadata": {},
   "outputs": [
    {
     "name": "stdout",
     "output_type": "stream",
     "text": [
      "(20, 5, 5)\n",
      "(20, 1, 1)\n"
     ]
    },
    {
     "data": {
      "text/html": [
       "\n",
       "    <div>\n",
       "        <style>\n",
       "            /* Turns off some styling */\n",
       "            progress {\n",
       "                /* gets rid of default border in Firefox and Opera. */\n",
       "                border: none;\n",
       "                /* Needs to be in here for Safari polyfill so background images work as expected. */\n",
       "                background-size: auto;\n",
       "            }\n",
       "            .progress-bar-interrupted, .progress-bar-interrupted::-webkit-progress-bar {\n",
       "                background: #F44336;\n",
       "            }\n",
       "        </style>\n",
       "      <progress value='4034' class='' max='4078', style='width:300px; height:20px; vertical-align: middle;'></progress>\n",
       "      99.12% [4034/4070 00:02<00:00 | best cost = 0.0000]\n",
       "    </div>\n",
       "    "
      ],
      "text/plain": [
       "<IPython.core.display.HTML object>"
      ]
     },
     "metadata": {},
     "output_type": "display_data"
    }
   ],
   "source": [
    "x=optimize(matrix_cost, pop_size = 20, dim=(5,5), epochs=Timer(3), use_cuda=True,prob_choosing_method='multinomial', chromosome_replacement_dimension='all')"
   ]
  },
  {
   "cell_type": "code",
   "execution_count": null,
   "metadata": {},
   "outputs": [],
   "source": []
  },
  {
   "cell_type": "code",
   "execution_count": null,
   "metadata": {},
   "outputs": [],
   "source": []
  },
  {
   "cell_type": "code",
   "execution_count": null,
   "metadata": {},
   "outputs": [],
   "source": [
    "X=torch.arange(10)[:,None]"
   ]
  },
  {
   "cell_type": "code",
   "execution_count": null,
   "metadata": {},
   "outputs": [],
   "source": [
    "Y=torch.arange(10)[None,:]"
   ]
  },
  {
   "cell_type": "code",
   "execution_count": null,
   "metadata": {},
   "outputs": [],
   "source": [
    "torch.abs(X-Y)"
   ]
  },
  {
   "cell_type": "code",
   "execution_count": null,
   "metadata": {},
   "outputs": [],
   "source": [
    "A=1-torch.eye(4); A"
   ]
  },
  {
   "cell_type": "code",
   "execution_count": null,
   "metadata": {},
   "outputs": [],
   "source": [
    "def get_block(k,i,j):\n",
    "    A=1-torch.eye(k)\n",
    "    Z=torch.zeros_like(A)\n",
    "    return torch.cat([Z]*i + [A] + [Z]*j,dim=1) "
   ]
  },
  {
   "cell_type": "code",
   "execution_count": null,
   "metadata": {},
   "outputs": [],
   "source": [
    "get_block(4,1,2)"
   ]
  },
  {
   "cell_type": "code",
   "execution_count": null,
   "metadata": {},
   "outputs": [],
   "source": [
    "def get_block_eye(k,n):\n",
    "    return torch.cat([get_block(k,i,n-i-1) for i in range(n)],dim=0)"
   ]
  },
  {
   "cell_type": "code",
   "execution_count": null,
   "metadata": {},
   "outputs": [],
   "source": [
    "get_block_eye(3,6)"
   ]
  },
  {
   "cell_type": "code",
   "execution_count": null,
   "metadata": {},
   "outputs": [],
   "source": [
    "get_block(3,0)"
   ]
  },
  {
   "cell_type": "code",
   "execution_count": null,
   "metadata": {},
   "outputs": [],
   "source": [
    "torch.cat()"
   ]
  },
  {
   "cell_type": "code",
   "execution_count": null,
   "metadata": {},
   "outputs": [],
   "source": [
    "torch.cat([torch.zeros_like(A)"
   ]
  },
  {
   "cell_type": "code",
   "execution_count": null,
   "metadata": {},
   "outputs": [],
   "source": []
  },
  {
   "cell_type": "code",
   "execution_count": null,
   "metadata": {},
   "outputs": [],
   "source": []
  },
  {
   "cell_type": "code",
   "execution_count": null,
   "metadata": {},
   "outputs": [],
   "source": [
    "n = 12\n",
    "s = 4\n",
    "b = n//s\n",
    "torch.cat([torch.randint(0,b,(3,b))+i*b for i in range(s)],dim=1)"
   ]
  },
  {
   "cell_type": "code",
   "execution_count": null,
   "metadata": {},
   "outputs": [],
   "source": [
    "I = torch.randint(0,n,(3,n))"
   ]
  },
  {
   "cell_type": "code",
   "execution_count": null,
   "metadata": {},
   "outputs": [],
   "source": [
    "I"
   ]
  },
  {
   "cell_type": "code",
   "execution_count": null,
   "metadata": {},
   "outputs": [],
   "source": []
  },
  {
   "cell_type": "code",
   "execution_count": null,
   "metadata": {},
   "outputs": [],
   "source": [
    "I = torch.randint(0,b,(3,n))"
   ]
  },
  {
   "cell_type": "code",
   "execution_count": null,
   "metadata": {},
   "outputs": [],
   "source": [
    "I.shape"
   ]
  },
  {
   "cell_type": "code",
   "execution_count": null,
   "metadata": {},
   "outputs": [],
   "source": [
    "S=torch.arange(s).repeat_interleave(b)[None]"
   ]
  },
  {
   "cell_type": "code",
   "execution_count": null,
   "metadata": {},
   "outputs": [],
   "source": [
    "I+S"
   ]
  },
  {
   "cell_type": "code",
   "execution_count": null,
   "metadata": {},
   "outputs": [],
   "source": [
    "I"
   ]
  },
  {
   "cell_type": "code",
   "execution_count": null,
   "metadata": {},
   "outputs": [],
   "source": [
    "S"
   ]
  },
  {
   "cell_type": "code",
   "execution_count": null,
   "metadata": {},
   "outputs": [],
   "source": [
    "class Dumb:\n",
    "    def __init__(self,n):\n",
    "        self.n = n\n",
    "        S = torch.randint(0,10,(self.n,self.n))\n",
    "        print(\"S = \", S)\n",
    "        self.f = lambda : S+torch.rand(self.n,self.n)"
   ]
  },
  {
   "cell_type": "code",
   "execution_count": null,
   "metadata": {},
   "outputs": [],
   "source": [
    "D = Dumb(8)"
   ]
  },
  {
   "cell_type": "code",
   "execution_count": null,
   "metadata": {},
   "outputs": [],
   "source": [
    "D.f().contiguous()"
   ]
  },
  {
   "cell_type": "code",
   "execution_count": null,
   "metadata": {},
   "outputs": [],
   "source": [
    "from progress_bar import progress_bar"
   ]
  },
  {
   "cell_type": "code",
   "execution_count": null,
   "metadata": {},
   "outputs": [],
   "source": [
    "pbar = progress_bar(range(100))"
   ]
  },
  {
   "cell_type": "code",
   "execution_count": null,
   "metadata": {},
   "outputs": [],
   "source": [
    "pbar.gen"
   ]
  },
  {
   "cell_type": "code",
   "execution_count": null,
   "metadata": {},
   "outputs": [],
   "source": [
    "pbar.total"
   ]
  },
  {
   "cell_type": "code",
   "execution_count": null,
   "metadata": {},
   "outputs": [],
   "source": [
    "for p in pbar:\n",
    "    pbar."
   ]
  },
  {
   "cell_type": "code",
   "execution_count": null,
   "metadata": {},
   "outputs": [],
   "source": [
    "P = torch.rand(5,7,3)"
   ]
  },
  {
   "cell_type": "code",
   "execution_count": null,
   "metadata": {},
   "outputs": [],
   "source": [
    "cost = torch.rand(5)"
   ]
  },
  {
   "cell_type": "code",
   "execution_count": null,
   "metadata": {},
   "outputs": [],
   "source": [
    "I=torch.randperm(P.shape[0],device=P.device)"
   ]
  },
  {
   "cell_type": "code",
   "execution_count": null,
   "metadata": {},
   "outputs": [],
   "source": [
    "P"
   ]
  },
  {
   "cell_type": "code",
   "execution_count": null,
   "metadata": {},
   "outputs": [],
   "source": [
    "I"
   ]
  },
  {
   "cell_type": "code",
   "execution_count": null,
   "metadata": {},
   "outputs": [],
   "source": [
    "P[I]"
   ]
  },
  {
   "cell_type": "code",
   "execution_count": null,
   "metadata": {},
   "outputs": [],
   "source": []
  }
 ],
 "metadata": {
  "kernelspec": {
   "display_name": "Python 3 (ipykernel)",
   "language": "python",
   "name": "python3"
  },
  "language_info": {
   "codemirror_mode": {
    "name": "ipython",
    "version": 3
   },
   "file_extension": ".py",
   "mimetype": "text/x-python",
   "name": "python",
   "nbconvert_exporter": "python",
   "pygments_lexer": "ipython3",
   "version": "3.11.7"
  }
 },
 "nbformat": 4,
 "nbformat_minor": 4
}
