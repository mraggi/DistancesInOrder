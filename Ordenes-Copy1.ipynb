{
 "cells": [
  {
   "cell_type": "code",
   "execution_count": 2,
   "metadata": {},
   "outputs": [],
   "source": [
    "from differential_evolution import optimize\n",
    "from timer import Timer\n",
    "import torch\n",
    "import torch.nn.functional as F\n",
    "from time import sleep\n",
    "from itertools import permutations"
   ]
  },
  {
   "cell_type": "code",
   "execution_count": 5,
   "metadata": {},
   "outputs": [],
   "source": [
    "def pairwise_distances(A,B):\n",
    "    # Both A and B should be (bs,n,d) where n is some number of points and d is dimension (e.g. 2 for R^2)\n",
    "    w = (A[:,None] - B[:,:,None])\n",
    "    d2 = (w*w).sum(dim = -1)\n",
    "    return torch.sqrt(d2)"
   ]
  },
  {
   "cell_type": "code",
   "execution_count": 15,
   "metadata": {},
   "outputs": [],
   "source": [
    "A = torch.arange(6)"
   ]
  },
  {
   "cell_type": "code",
   "execution_count": 16,
   "metadata": {},
   "outputs": [],
   "source": [
    "A = A.view(1,3,2)"
   ]
  },
  {
   "cell_type": "code",
   "execution_count": null,
   "metadata": {},
   "outputs": [],
   "source": [
    "def disttom1and1(A):\n",
    "    return torch.cat([torch.abs(A+1),torch.abs(A-1)],dim=1)\n",
    "\n",
    "class PermCost():\n",
    "    def __init__(self, P):\n",
    "        self.P = P[None].float()\n",
    "        \n",
    "    def __call__(self, A):\n",
    "        D = disttom1and1(A)\n",
    "        _,I = D.sort(dim=1)\n",
    "        \n",
    "        mal = (I != self.P)\n",
    "        malas = mal*D\n",
    "        \n",
    "        #print(f\"Permutation: {self.P}\\n\\n A = {A[0]}\\n\\n D = {D[0]}\\n\\n malas = {malas[0]}\")\n",
    "        #raise\n",
    "        \n",
    "        return torch.sum(torch.abs(I-self.P),dim=1) #+ malas.mean(dim=1)/21\n",
    "\n"
   ]
  },
  {
   "cell_type": "code",
   "execution_count": null,
   "metadata": {},
   "outputs": [],
   "source": [
    "def inverse_perm(P):\n",
    "    Q = [0]*len(P)\n",
    "    for i,p in enumerate(P):\n",
    "        Q[p] = i\n",
    "    return Q"
   ]
  },
  {
   "cell_type": "code",
   "execution_count": null,
   "metadata": {
    "tags": []
   },
   "outputs": [],
   "source": [
    "n = 3\n",
    "bad  = []\n",
    "\n",
    "for p in permutations(range(2*n-1)):\n",
    "    q = [2*n-1] + list(p)\n",
    "    value, x = optimize(PermCost(torch.tensor(q)), num_populations=4, initial_pop=torch.randn((1024*8,n)), epochs=50, \n",
    "                        #proj_to_domain=lambda x: torch.clamp(x,-10,10) + torch.randn_like(x)*0.01,\n",
    "                        use_cuda=False,\n",
    "                        break_at_cost=0\n",
    "                       )\n",
    "    if value != 0:\n",
    "        print(f\"BAD permutation: {inverse_perm(q)}, best value: {value}, best found: {x} with distmatrix {disttom1and1(x[None])}\")\n",
    "        bad.append(q)\n",
    "        #raise\n",
    "    else:\n",
    "        print(f\"Perm {inverse_perm(q)} can be realized with {x} with distance matrix: {disttom1and1(x[None])}\")"
   ]
  },
  {
   "cell_type": "code",
   "execution_count": null,
   "metadata": {},
   "outputs": [],
   "source": [
    "len(bad)"
   ]
  },
  {
   "cell_type": "code",
   "execution_count": null,
   "metadata": {},
   "outputs": [],
   "source": [
    "def dist(A,B):\n",
    "    d = (A[:,None] - B[:,:,None])\n",
    "    x, y = d[...,0], d[...,1]\n",
    "    return (x*x + y*y).view(bs,-1)"
   ]
  },
  {
   "cell_type": "code",
   "execution_count": null,
   "metadata": {},
   "outputs": [],
   "source": [
    "def batchify("
   ]
  },
  {
   "cell_type": "code",
   "execution_count": null,
   "metadata": {},
   "outputs": [],
   "source": [
    "def disttoABC(A,c):\n",
    "    bs = A.shape[0]\n",
    "    T = torch.tensor([[-1,0],[1,0]],device=A.device).double()\n",
    "    T = torch.cat([T.repeat(bs,1,1),c[:,None]],dim=1)\n",
    "    d = (A[:,None] - T[:,:,None])\n",
    "    x,y = d[...,0], d[...,1]\n",
    "    return (x*x+y*y).view(bs,-1)\n",
    "\n",
    "class PermCost():\n",
    "    def __init__(self, P):\n",
    "        self.P = P[None].double()\n",
    "        \n",
    "    def __call__(self, A):\n",
    "        B,c = A[:,1:],A[:,0]\n",
    "        D = disttoABC(B,c)\n",
    "        _,I = D.sort(dim=1)\n",
    "        \n",
    "        #print(grr)\n",
    "        #raise \"BLA\"\n",
    "        \n",
    "        return torch.sum(torch.abs(I-self.P),dim=1)\n",
    "\n",
    "from itertools import permutations\n",
    "\n",
    "bad_ones = []\n",
    "n = 3\n",
    "device = 'cuda'\n",
    "for p in permutations(range(3*n)):\n",
    "    perm = torch.tensor(p,device=device)\n",
    "    initial_pop = torch.randn((2048,n+1,2),device=device).double()\n",
    "    \n",
    "    value, x = optimize(PermCost(perm), \n",
    "                        num_populations=8, initial_pop=initial_pop, \n",
    "                        epochs=5000, \n",
    "                        shuffles=2,\n",
    "                        proj_to_domain=lambda x: torch.clamp(x,-10,10) + torch.randn_like(x)*0.00001, \n",
    "                        use_cuda=False,\n",
    "                        break_at_cost=0\n",
    "                       )\n",
    "    if value != 0:\n",
    "        print(f\"BAD permutation: {p}, best value: {value}\")\n",
    "        bad_ones += [p]\n",
    "        #sleep(0.3)\n",
    "        #break\n",
    "    else:\n",
    "        print(f\"Perm {p} can be realized with {x}\")"
   ]
  },
  {
   "cell_type": "code",
   "execution_count": null,
   "metadata": {},
   "outputs": [],
   "source": [
    "(0, 1, 2, 3, 4, 6, 5, 7, 8)"
   ]
  },
  {
   "cell_type": "code",
   "execution_count": null,
   "metadata": {},
   "outputs": [],
   "source": [
    "A = torch.tensor([[ 1.9503, 14.5673],\n",
    "        [-0.3314, -5.1933],\n",
    "        [-5.7467, -1.6767],\n",
    "        [ 4.1168, -4.4749]])[None]"
   ]
  },
  {
   "cell_type": "code",
   "execution_count": null,
   "metadata": {},
   "outputs": [],
   "source": [
    "A,c = A[:,1:],A[:,0]\n",
    "D = disttoABC(A,c)\n",
    "#_,I = D.sort(dim=1)"
   ]
  },
  {
   "cell_type": "code",
   "execution_count": null,
   "metadata": {},
   "outputs": [],
   "source": [
    "D"
   ]
  },
  {
   "cell_type": "code",
   "execution_count": null,
   "metadata": {},
   "outputs": [],
   "source": [
    "def d(a,b):\n",
    "    x = a[0]-b[0]\n",
    "    y = a[1]-b[1]\n",
    "    return x*x+y*y"
   ]
  },
  {
   "cell_type": "code",
   "execution_count": null,
   "metadata": {},
   "outputs": [],
   "source": [
    "A.shape"
   ]
  },
  {
   "cell_type": "code",
   "execution_count": null,
   "metadata": {},
   "outputs": [],
   "source": [
    "p,q,r = A[0]"
   ]
  },
  {
   "cell_type": "code",
   "execution_count": null,
   "metadata": {},
   "outputs": [],
   "source": [
    "p"
   ]
  },
  {
   "cell_type": "code",
   "execution_count": null,
   "metadata": {},
   "outputs": [],
   "source": [
    "d(p,c[0])"
   ]
  },
  {
   "cell_type": "code",
   "execution_count": null,
   "metadata": {},
   "outputs": [],
   "source": [
    "d(q,c[0])"
   ]
  },
  {
   "cell_type": "code",
   "execution_count": null,
   "metadata": {},
   "outputs": [],
   "source": [
    "d(r,c[0])"
   ]
  },
  {
   "cell_type": "code",
   "execution_count": null,
   "metadata": {},
   "outputs": [],
   "source": []
  }
 ],
 "metadata": {
  "kernelspec": {
   "display_name": "Python 3",
   "language": "python",
   "name": "python3"
  },
  "language_info": {
   "codemirror_mode": {
    "name": "ipython",
    "version": 3
   },
   "file_extension": ".py",
   "mimetype": "text/x-python",
   "name": "python",
   "nbconvert_exporter": "python",
   "pygments_lexer": "ipython3",
   "version": "3.8.5"
  }
 },
 "nbformat": 4,
 "nbformat_minor": 4
}
